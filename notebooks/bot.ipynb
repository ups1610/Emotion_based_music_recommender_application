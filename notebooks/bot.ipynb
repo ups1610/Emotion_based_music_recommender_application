{
 "cells": [
  {
   "cell_type": "code",
   "execution_count": 1,
   "metadata": {},
   "outputs": [
    {
     "name": "stdout",
     "output_type": "stream",
     "text": [
      "Collecting anvil-uplink\n",
      "  Using cached anvil_uplink-0.4.2-py2.py3-none-any.whl (90 kB)\n",
      "Note: you may need to restart the kernel to use updated packages.Collecting ws4py\n",
      "\n"
     ]
    },
    {
     "name": "stderr",
     "output_type": "stream",
     "text": [
      "WARNING: You are using pip version 22.1; however, version 23.1.2 is available.\n",
      "You should consider upgrading via the 'c:\\Users\\hp\\anaconda3\\python.exe -m pip install --upgrade pip' command.\n"
     ]
    },
    {
     "name": "stdout",
     "output_type": "stream",
     "text": [
      "  Using cached ws4py-0.5.1.tar.gz (51 kB)\n",
      "Requirement already satisfied: future in c:\\users\\hp\\anaconda3\\lib\\site-packages (from anvil-uplink) (0.18.2)\n",
      "Collecting argparse\n",
      "  Using cached argparse-1.4.0-py2.py3-none-any.whl (23 kB)\n",
      "Requirement already satisfied: six in c:\\users\\hp\\anaconda3\\lib\\site-packages (from anvil-uplink) (1.16.0)\n",
      "Building wheels for collected packages: ws4py\n",
      "  Building wheel for ws4py (setup.py): started\n",
      "  Building wheel for ws4py (setup.py): finished with status 'done'\n",
      "  Created wheel for ws4py: filename=ws4py-0.5.1-py3-none-any.whl size=45215 sha256=a5a0bade49129d45bc76c31efca6e216ccc914d8bc0bc0785b07089d0e1c634e\n",
      "  Stored in directory: c:\\users\\hp\\appdata\\local\\pip\\cache\\wheels\\ea\\f9\\a1\\34e2943cce3cf7daca304bfc35e91280694ced9194a487ce2f\n",
      "Successfully built ws4py\n",
      "Installing collected packages: ws4py, argparse, anvil-uplink\n",
      "Successfully installed anvil-uplink-0.4.2 argparse-1.4.0 ws4py-0.5.1\n"
     ]
    }
   ],
   "source": [
    "pip install anvil-uplink"
   ]
  },
  {
   "cell_type": "code",
   "execution_count": 2,
   "metadata": {},
   "outputs": [
    {
     "name": "stdout",
     "output_type": "stream",
     "text": [
      "Connecting to wss://anvil.works/uplink\n",
      "Anvil websocket open\n",
      "Connected to \"Development\" as SERVER\n"
     ]
    }
   ],
   "source": [
    "import anvil.server\n",
    "\n",
    "anvil.server.connect(\"FDFLEPPVIGZFNLYADVFLX4JQ-ZHXYWRBKP6XZYK2Q\")"
   ]
  },
  {
   "cell_type": "code",
   "execution_count": 3,
   "metadata": {},
   "outputs": [],
   "source": [
    "# pip install tensorflow keras pickle nltk\n",
    "import numpy as np\n",
    "from keras.models import Sequential\n",
    "from keras.layers import Dense, Activation, Dropout\n",
    "from tensorflow.keras.optimizers import SGD\n",
    "import random\n",
    "import nltk\n",
    "from nltk.stem import WordNetLemmatizer\n",
    "lemmatizer = WordNetLemmatizer()\n",
    "import json\n",
    "import pickle\n",
    "intents_file = open('intents.json').read()\n",
    "intents = json.loads(intents_file)"
   ]
  },
  {
   "cell_type": "code",
   "execution_count": 4,
   "metadata": {},
   "outputs": [
    {
     "name": "stdout",
     "output_type": "stream",
     "text": [
      "[(['hi'], 'greeting'), (['hello'], 'greeting'), (['what', \"'s\", 'up'], 'greeting'), (['sup'], 'greeting'), (['is', 'anyone', 'there'], 'greeting'), (['whats', 'good'], 'greeting'), (['hey'], 'greeting'), (['How', \"'s\", 'the', 'day', 'treating', 'you', 'so', 'far', '?'], 'greeting'), (['bye'], 'goodbye'), (['cya'], 'goodbye'), (['see', 'you', 'later'], 'goodbye'), (['goodbye'], 'goodbye'), (['im', 'leaving'], 'goodbye'), (['have', 'a', 'good', 'day'], 'goodbye'), (['let', \"'s\", 'not', 'talk'], 'goodbye'), (['I', 'do', \"n't\", 'want', 'to', 'talk', 'to', 'you'], 'goodbye'), (['Who', 'is', 'your', 'creator'], 'creation'), (['Who', 'made', 'you'], 'creation'), (['who', 'built', 'you'], 'creation'), (['how', 'old', 'are', 'you', '?'], 'age'), (['what', 'is', 'your', 'age', '?'], 'age'), (['whats', 'your', 'age', '?'], 'age'), (['when', 'do', 'you', 'celebrate', 'your', 'birthday', '?'], 'age'), (['how', 'old', 'is', 'your', 'platform'], 'age'), (['ha', 'ha', 'ha', 'ha'], 'e_haha'), (['haha', 'haha', 'haha'], 'e_haha'), (['laughing', 'out'], 'e_haha'), (['hehehe'], 'e_haha'), (['ah', 'ah', 'ah'], 'e_haha'), (['thanks'], 'thanks'), (['thank', 'you'], 'thanks'), (['thankyou'], 'thanks'), (['ty'], 'thanks'), (['I', 'owe', 'you', 'one'], 'thanks'), (['whats', 'is', 'your', 'name'], 'name'), (['whats', 'your', 'name'], 'name'), (['whats', 'should', 'I', 'call', 'you'], 'name'), (['how', 'should', 'I', 'address', 'you'], 'name'), (['Yes', 'it', 'does'], 'yes'), (['Yeah'], 'yes'), (['Amazing'], 'yes'), (['Haha', 'yep'], 'yes'), (['fine'], 'yes'), (['yes'], 'yes'), (['Indeed'], 'yes'), (['Yup'], 'yes'), (['yep'], 'yes'), (['Oh', 'really'], 'yes'), (['Okay'], 'yes'), (['Okie'], 'yes'), (['Ok'], 'yes'), (['I', 'see'], 'yes'), (['why'], 'why'), (['what'], 'why'), (['whats', 'that'], 'why'), (['no'], 'no'), (['nah'], 'no'), (['not', 'really'], 'no'), (['thats', 'scary'], 'no'), (['singularity'], 'no'), (['what', 'are', 'you', 'doing', 'now', '?'], 'what_are_you_doing'), (['What', 'are', 'you', 'doing', '?'], 'what_are_you_doing'), (['what', 'you', 'doin'], 'what_are_you_doing'), (['how', 'are', 'you'], 'how_are_you'), (['how', 'are', 'you', 'doing'], 'how_are_you'), (['what', 'is', 'going', 'on'], 'how_are_you'), (['what', 'are', 'you', 'doing'], 'how_are_you'), (['fuck'], 'abusive'), (['fuck', 'you'], 'abusive'), (['fuck', 'off'], 'abusive'), (['fuck', 'yourself'], 'abusive'), (['I', 'am', 'doing', 'great'], 'doing_great'), (['I', 'am', 'well'], 'doing_great'), (['Im', 'great'], 'doing_great'), (['awesome'], 'doing_great'), (['happy'], 'doing_great'), (['better'], 'doing_great'), (['not', 'great'], 'doing_badly'), (['not', 'well'], 'doing_badly'), (['not', 'good'], 'doing_badly'), (['bad'], 'doing_badly'), (['badly'], 'doing_badly'), (['terrible'], 'doing_badly'), (['horrible'], 'doing_badly'), (['awful'], 'doing_badly'), (['sad'], 'doing_badly'), (['break'], 'doing_badly'), (['depressed'], 'doing_badly'), (['depression'], 'doing_badly'), (['wait', 'you', 'watch', 'Netflix'], 'netflix'), (['how', 'do', 'you', 'watch', 'Netflix'], 'netflix'), (['Netflix'], 'netflix'), (['I', 'love', 'to', 'watch', 'netflix'], 'netflix'), (['I', 'love', 'netflix', 'and', 'chill'], 'netflix'), (['how', 'can', 'you', 'run'], 'quick_run'), (['how', 'do', 'you', 'run'], 'quick_run'), (['how', 'run'], 'quick_run'), (['why', 'run'], 'quick_run'), (['run'], 'quick_run'), (['are', 'you', 'real'], 'real_bot'), (['are', 'you', 'human'], 'real_bot'), (['are', 'you', 'a', 'robot'], 'real_bot'), (['are', 'you', 'alive'], 'real_bot'), (['are', 'you', 'sentient'], 'real_bot'), (['are', 'you', 'conscious'], 'real_bot'), (['tell', 'me', 'joke'], 'joke'), (['yeah', 'sure', 'tell', 'me'], 'joke'), (['got', 'any', 'good', 'jokes'], 'joke'), (['got', 'jokes'], 'joke'), (['can', 'you', 'tell', 'joke'], 'joke'), (['tell', 'joke'], 'joke'), (['how', 'about', 'another', 'one'], 'joke'), (['joke'], 'joke'), (['cheer', 'me', 'up'], 'joke'), (['make', 'me', 'happy'], 'joke'), (['can', 'you', 'make', 'me', 'laugh', '?'], 'joke'), (['haha'], 'good_joke'), (['that', 'was', 'funny'], 'good_joke'), (['very', 'funny'], 'good_joke'), (['good', 'one'], 'good_joke'), (['real', 'funny'], 'good_joke'), (['bad', 'joke'], 'bad_joke'), (['trash', 'joke'], 'bad_joke'), (['terrible'], 'bad_joke'), (['not', 'funny'], 'bad_joke'), (['whats', 'wrong'], 'hate'), (['I', 'hate', 'you'], 'hate'), (['you', 'stupid'], 'hate'), (['you', 'dumb'], 'hate'), (['you', 'mean'], 'hate'), (['you', 'my', 'friend'], 'like'), (['I', 'like', 'you'], 'like'), (['you', 'cool'], 'like'), (['you', 'are', 'chill'], 'like'), (['I', 'love', 'you'], 'love'), (['I', 'think', 'I', 'love', 'you'], 'love'), (['whats', 'your', 'favorite', 'show'], 'favorite_show'), (['favorite', 'tv', 'show'], 'favorite_show'), (['favorite', 'show'], 'favorite_show'), (['tell', 'me', 'a', 'fact'], 'facts'), (['fact'], 'facts'), (['do', 'you', 'know', 'a', 'fact'], 'facts'), (['surprise', 'me'], 'facts'), (['Whats', 'your', 'favorite', 'movie'], 'favorite_movie'), (['whats', 'your', 'favorite', 'film'], 'favorite_movie'), (['best', 'movie'], 'favorite_movie'), (['your', 'favorite', 'movie'], 'favorite_movie'), (['whats', 'favorite', 'movie'], 'favorite_movie'), (['whats', 'your', 'favorite', 'food'], 'favorite_food'), (['favorite', 'food'], 'favorite_food'), (['What', 'do', 'you', 'think', 'about'], 'your_thoughts'), (['What', 'your', 'thoughts'], 'your_thoughts')]\n"
     ]
    },
    {
     "name": "stderr",
     "output_type": "stream",
     "text": [
      "[nltk_data] Error loading punkt: <urlopen error [WinError 10060] A\n",
      "[nltk_data]     connection attempt failed because the connected party\n",
      "[nltk_data]     did not properly respond after a period of time, or\n",
      "[nltk_data]     established connection failed because connected host\n",
      "[nltk_data]     has failed to respond>\n"
     ]
    }
   ],
   "source": [
    "import nltk\n",
    "nltk.download('punkt')\n",
    "words=[]\n",
    "classes = []\n",
    "documents = []\n",
    "ignore_letters = ['!', '?', ',', '.']\n",
    "for intent in intents['intents']:\n",
    "    for pattern in intent['patterns']:\n",
    "        word = nltk.word_tokenize(pattern)\n",
    "        words.extend(word)\n",
    "        documents.append((word, intent['tag']))\n",
    "        if intent['tag'] not in classes:\n",
    "            classes.append(intent['tag'])\n",
    "print(documents)"
   ]
  },
  {
   "cell_type": "code",
   "execution_count": null,
   "metadata": {},
   "outputs": [],
   "source": []
  }
 ],
 "metadata": {
  "kernelspec": {
   "display_name": "venv",
   "language": "python",
   "name": "python3"
  },
  "language_info": {
   "codemirror_mode": {
    "name": "ipython",
    "version": 3
   },
   "file_extension": ".py",
   "mimetype": "text/x-python",
   "name": "python",
   "nbconvert_exporter": "python",
   "pygments_lexer": "ipython3",
   "version": "3.8.8"
  },
  "orig_nbformat": 4
 },
 "nbformat": 4,
 "nbformat_minor": 2
}
